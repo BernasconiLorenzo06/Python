{
  "nbformat": 4,
  "nbformat_minor": 0,
  "metadata": {
    "colab": {
      "provenance": [],
      "authorship_tag": "ABX9TyNUmLXd5ehwX7HuHNBdc8m8",
      "include_colab_link": true
    },
    "kernelspec": {
      "name": "python3",
      "display_name": "Python 3"
    },
    "language_info": {
      "name": "python"
    }
  },
  "cells": [
    {
      "cell_type": "markdown",
      "metadata": {
        "id": "view-in-github",
        "colab_type": "text"
      },
      "source": [
        "<a href=\"https://colab.research.google.com/github/BernasconiLorenzo06/Python/blob/main/liste.ipynb\" target=\"_parent\"><img src=\"https://colab.research.google.com/assets/colab-badge.svg\" alt=\"Open In Colab\"/></a>"
      ]
    },
    {
      "cell_type": "markdown",
      "source": [
        "\n",
        "liste\n",
        "\n",
        "\n"
      ],
      "metadata": {
        "id": "QEpiFGE_4yr2"
      }
    },
    {
      "cell_type": "code",
      "execution_count": null,
      "metadata": {
        "id": "7tZwaXmx2Q3X"
      },
      "outputs": [],
      "source": [
        "a = []\n"
      ]
    },
    {
      "cell_type": "code",
      "source": [
        "b = [1,2,3,4,5,6,7,8,9,10]\n",
        "print(b)\n"
      ],
      "metadata": {
        "colab": {
          "base_uri": "https://localhost:8080/"
        },
        "id": "o9cGYorl5Eo-",
        "outputId": "c2046d3f-607f-4aa7-bea8-2e7144d11ccf"
      },
      "execution_count": null,
      "outputs": [
        {
          "output_type": "stream",
          "name": "stdout",
          "text": [
            "[1, 2, 3, 4, 5, 6, 7, 8, 9, 10]\n"
          ]
        }
      ]
    },
    {
      "cell_type": "code",
      "source": [
        "type(b)"
      ],
      "metadata": {
        "colab": {
          "base_uri": "https://localhost:8080/"
        },
        "id": "rr6656cr5dEh",
        "outputId": "1d04111f-2fcd-4b17-bf85-c319ac63d182"
      },
      "execution_count": null,
      "outputs": [
        {
          "output_type": "execute_result",
          "data": {
            "text/plain": [
              "list"
            ]
          },
          "metadata": {},
          "execution_count": 2
        }
      ]
    },
    {
      "cell_type": "code",
      "source": [
        "lista=[12,\"pippo\",37.92 , \"pluto\",[\"qui\",[8,12,24],\"qua\"],58]\n",
        "print(lista[4][1][2])"
      ],
      "metadata": {
        "colab": {
          "base_uri": "https://localhost:8080/"
        },
        "id": "3VJzMsNO58qK",
        "outputId": "1d5fc8d5-a19d-4c58-99fb-b3d89421c838"
      },
      "execution_count": null,
      "outputs": [
        {
          "output_type": "stream",
          "name": "stdout",
          "text": [
            "24\n"
          ]
        }
      ]
    },
    {
      "cell_type": "code",
      "source": [
        "lista1 = [1,2,3,4,5,6,7,8,9,10]\n",
        "print(lista1[-1]) #trova l'ultimo elemento della lista"
      ],
      "metadata": {
        "colab": {
          "base_uri": "https://localhost:8080/"
        },
        "id": "X4CI8aQu7h2S",
        "outputId": "9a37a913-bd07-4b1f-e91d-d15ce19cbfbd"
      },
      "execution_count": null,
      "outputs": [
        {
          "output_type": "stream",
          "name": "stdout",
          "text": [
            "10\n"
          ]
        }
      ]
    },
    {
      "cell_type": "code",
      "source": [
        "\n",
        "num = [0,1,2,3,4,5,6,7,8,9]\n",
        "#visualizzazine degli elementi dal 3 al 6\n",
        "print(num[3:7])\n",
        "#visualizzazione degli ultimi 5 elementi\n",
        "print(num[5:])\n",
        "#visualizzazione dei primi 5 elementi\n",
        "print(num[:5])\n",
        "#visualizzazione dell'ultimo e del terzultimo numero\n",
        "print(num[-3:-1])\n",
        "#visualizzazione numeri a due a due\n",
        "print(num[3:9:2])\n",
        "#visualizzazione numeri dall'inizio alla fine a 3 a 3\n",
        "print(num[::3])\n"
      ],
      "metadata": {
        "colab": {
          "base_uri": "https://localhost:8080/"
        },
        "id": "wyGbt-8P9fLI",
        "outputId": "8f9dc064-52fe-4428-d53e-5d4812f08c27"
      },
      "execution_count": null,
      "outputs": [
        {
          "output_type": "stream",
          "name": "stdout",
          "text": [
            "[3, 4, 5, 6]\n",
            "[5, 6, 7, 8, 9]\n",
            "[0, 1, 2, 3, 4]\n",
            "[7, 8]\n",
            "[3, 5, 7]\n",
            "[0, 3, 6, 9]\n"
          ]
        }
      ]
    },
    {
      "cell_type": "code",
      "source": [
        "#controlla se c'è un numero in una lista\n",
        "19 in num\n"
      ],
      "metadata": {
        "colab": {
          "base_uri": "https://localhost:8080/"
        },
        "id": "nNfY2bsBAbDx",
        "outputId": "02c635b2-82b3-44cc-abdc-b555dcbd04f7"
      },
      "execution_count": null,
      "outputs": [
        {
          "output_type": "execute_result",
          "data": {
            "text/plain": [
              "False"
            ]
          },
          "metadata": {},
          "execution_count": 27
        }
      ]
    },
    {
      "cell_type": "code",
      "source": [
        "stringa = \"la mamma è bella\"\n",
        "print(stringa)\n",
        "lista= list(stringa)\n",
        "print(lista)"
      ],
      "metadata": {
        "colab": {
          "base_uri": "https://localhost:8080/"
        },
        "id": "e_GhnLqYA3Su",
        "outputId": "c300f4d3-0298-4c38-f5c7-99b566c29982"
      },
      "execution_count": null,
      "outputs": [
        {
          "output_type": "stream",
          "name": "stdout",
          "text": [
            "la mamma è bella\n",
            "['l', 'a', ' ', 'm', 'a', 'm', 'm', 'a', ' ', 'è', ' ', 'b', 'e', 'l', 'l', 'a']\n"
          ]
        }
      ]
    },
    {
      "cell_type": "code",
      "source": [
        "lista = [1,2,3]\n",
        "#aggiungere un numero alla lista\n",
        "lista.append(12)\n",
        "print(lista)\n",
        "#aggiungere una lista alla lista\n",
        "lista.append([10,19])\n",
        "print(lista)\n",
        "#aggiungere una lista della lista alla lista\n",
        "lista.extend([10,19])\n",
        "print(lista)"
      ],
      "metadata": {
        "colab": {
          "base_uri": "https://localhost:8080/"
        },
        "id": "4hO9mUeKBxLm",
        "outputId": "5cdfdd7a-1a44-4fa3-f2cf-8697d17b3c3f"
      },
      "execution_count": null,
      "outputs": [
        {
          "output_type": "stream",
          "name": "stdout",
          "text": [
            "[1, 2, 3, 12]\n",
            "[1, 2, 3, 12, [10, 19]]\n",
            "[1, 2, 3, 12, [10, 19], 10, 19]\n"
          ]
        }
      ]
    },
    {
      "cell_type": "markdown",
      "source": [],
      "metadata": {
        "id": "aXGBTdoV8pdk"
      }
    }
  ]
}