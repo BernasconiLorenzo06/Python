{
  "nbformat": 4,
  "nbformat_minor": 0,
  "metadata": {
    "colab": {
      "provenance": [],
      "authorship_tag": "ABX9TyNSP+8owB+VgEx0a3MYmzc+",
      "include_colab_link": true
    },
    "kernelspec": {
      "name": "python3",
      "display_name": "Python 3"
    },
    "language_info": {
      "name": "python"
    }
  },
  "cells": [
    {
      "cell_type": "markdown",
      "metadata": {
        "id": "view-in-github",
        "colab_type": "text"
      },
      "source": [
        "<a href=\"https://colab.research.google.com/github/BernasconiLorenzo06/Python/blob/main/esercitazione_verifica_liste.ipynb\" target=\"_parent\"><img src=\"https://colab.research.google.com/assets/colab-badge.svg\" alt=\"Open In Colab\"/></a>"
      ]
    },
    {
      "cell_type": "code",
      "source": [
        "#visualizzare numeri di una lista\n",
        "lista = [1,2,3,4,5,6,7,8,9,10]\n",
        "print(lista[5])"
      ],
      "metadata": {
        "id": "V0ne95B1diVs"
      },
      "execution_count": null,
      "outputs": []
    },
    {
      "cell_type": "code",
      "source": [
        "#visualizzare stringhe di una lista\n",
        "listaStringhe = [\"ciao\",[\"bello\",\"cestino\"],\"salve\"]\n",
        "print(listaStringhe[1])"
      ],
      "metadata": {
        "id": "dg94rcmZgw3V"
      },
      "execution_count": null,
      "outputs": []
    },
    {
      "cell_type": "code",
      "source": [
        "#visualizzare elementi della lista mista\n",
        "listaMista = [1,2,\"ciao\",[34.56,[\"casa\"],568.98],\"paolo\"]\n",
        "print(listaMista[3][1])"
      ],
      "metadata": {
        "id": "DfpARqFigxAL"
      },
      "execution_count": null,
      "outputs": []
    },
    {
      "cell_type": "code",
      "source": [
        "#prendere numeri tra due numeri che vuoi e \n",
        "lista1 = [1,2,3,4,5,6,7,8,9,10]\n",
        "print(lista1[1 : 7 ] )\n"
      ],
      "metadata": {
        "id": "xUUkHAp_gxIm"
      },
      "execution_count": null,
      "outputs": []
    },
    {
      "cell_type": "code",
      "source": [
        "#prendere numeri a due a due\n",
        "lista2 = [1,2,3,4,5,6,7,8,9,10]\n",
        "print(lista1[1 : 7 : 2] )"
      ],
      "metadata": {
        "id": "C8gsPmmChvWF"
      },
      "execution_count": null,
      "outputs": []
    },
    {
      "cell_type": "code",
      "source": [
        "#slising numeri negativi con anche numeri a due a due\n",
        "lista3 = [1,2,3,4,5,6,7,8,9,10]\n",
        "print(lista1[-9: -3 : 2])"
      ],
      "metadata": {
        "id": "1J8TZ1lGg5vn"
      },
      "execution_count": null,
      "outputs": []
    },
    {
      "cell_type": "code",
      "source": [
        "#guardare lunghezza lista\n",
        "lista4 = [1,2,3,4,5,6,7,8,9,10,11,12,13,14]\n",
        "len(lista4)"
      ],
      "metadata": {
        "id": "gHnLayUXjF3x"
      },
      "execution_count": null,
      "outputs": []
    },
    {
      "cell_type": "code",
      "source": [
        "#trovare numeri max\n",
        "lista5 = [99,21,32,24,55,6,67,82,39,17]\n",
        "massimo = max(lista5)\n",
        "print(massimo)"
      ],
      "metadata": {
        "id": "hcrdzRdrjWnn"
      },
      "execution_count": null,
      "outputs": []
    },
    {
      "cell_type": "code",
      "source": [
        "#trovare il minimo\n",
        "lista5 = [99,21,32,24,55,6,67,82,39,17]\n",
        "minimo = min(lista5)\n",
        "print(minimo)"
      ],
      "metadata": {
        "id": "mrhbOe6TkRgN"
      },
      "execution_count": null,
      "outputs": []
    },
    {
      "cell_type": "code",
      "source": [
        "#somma tra i numeri di una lista\n",
        "lista5 = [99,21,32,24,55,6,67,82,39,17]\n",
        "somma = sum(lista5)\n",
        "print(somma)"
      ],
      "metadata": {
        "id": "oivhO3LbkRy9"
      },
      "execution_count": null,
      "outputs": []
    },
    {
      "cell_type": "code",
      "source": [
        "#concatenazione tra 2 liste\n",
        "lista6 = [1,2,3]\n",
        "lista7 = [7,8,9]\n",
        "lista6 + lista7"
      ],
      "metadata": {
        "id": "CNt_VDmikw11"
      },
      "execution_count": null,
      "outputs": []
    },
    {
      "cell_type": "code",
      "source": [
        "#trovare un elemento e dire se c'è on nella lista\n",
        "lista8 = [1,2,\"ciao\",[34.56,[\"casa\"],568.98],\"paolo\"]\n",
        "\"paolo\" in lista8"
      ],
      "metadata": {
        "id": "2xEEz638mLyV"
      },
      "execution_count": null,
      "outputs": []
    },
    {
      "cell_type": "code",
      "source": [
        "#trovare un elemento e dire se c'è on nella lista\n",
        "lista8 = [1,2,\"ciao\",[34.56,[\"casa\"],568.98],\"paolo\"]\n",
        "\"h\" in lista8"
      ],
      "metadata": {
        "id": "le0_81Q1nElF"
      },
      "execution_count": null,
      "outputs": []
    },
    {
      "cell_type": "code",
      "source": [
        "#trovare il max e min (alfabeto) nella lista\n",
        "lista9 = [\"b\",\"c\",\"d\",\"h\",\"ciao\"]\n",
        "print(max(lista9))\n",
        "print(min(lista9))"
      ],
      "metadata": {
        "id": "-aGkLtBbnkkt",
        "outputId": "d167d460-f295-4ae9-fba4-91b6a4ee981d",
        "colab": {
          "base_uri": "https://localhost:8080/"
        }
      },
      "execution_count": null,
      "outputs": [
        {
          "output_type": "stream",
          "name": "stdout",
          "text": [
            "h\n",
            "b\n"
          ]
        }
      ]
    },
    {
      "cell_type": "code",
      "source": [
        "#visualizzare una parola lettera per lettera\n",
        "lista10 = \"ciao a tutti ragazzi come state\"\n",
        "print(lista10)\n",
        "lista11 = list(lista10)\n",
        "print(lista11)"
      ],
      "metadata": {
        "id": "SBOymtipowqM",
        "colab": {
          "base_uri": "https://localhost:8080/"
        },
        "outputId": "61467dae-b2a4-4f50-e69c-a2d67545f03d"
      },
      "execution_count": null,
      "outputs": [
        {
          "output_type": "stream",
          "name": "stdout",
          "text": [
            "ciao a tutti ragazzi come state\n",
            "['c', 'i', 'a', 'o', ' ', 'a', ' ', 't', 'u', 't', 't', 'i', ' ', 'r', 'a', 'g', 'a', 'z', 'z', 'i', ' ', 'c', 'o', 'm', 'e', ' ', 's', 't', 'a', 't', 'e']\n"
          ]
        }
      ]
    },
    {
      "cell_type": "code",
      "source": [
        "#divide la stringa in più parole\n",
        "lista10 = \"ciao a tutti ragazzi come state\"\n",
        "print(lista10.split())"
      ],
      "metadata": {
        "id": "nx1Wxohopxrl"
      },
      "execution_count": null,
      "outputs": []
    },
    {
      "cell_type": "code",
      "source": [
        "#aggiungere un numero a una lista\n",
        "lista12 = [1,2,3,4,5,6]\n",
        "lista12.append(1)\n",
        "print(lista12)"
      ],
      "metadata": {
        "id": "k_YqOrVoqRBU"
      },
      "execution_count": null,
      "outputs": []
    },
    {
      "cell_type": "code",
      "source": [
        "#aggiungere più di un numero ad una lista\n",
        "lista13 = [1,2,3,4,5,6]\n",
        "lista13.extend([78,95,787])\n",
        "print(lista13)"
      ],
      "metadata": {
        "id": "dA4npAcOrDPd"
      },
      "execution_count": null,
      "outputs": []
    },
    {
      "cell_type": "code",
      "source": [
        "#inserire un elemento in una lista decidendo la posizione\n",
        "lista14 = [1,2,3,4,5,6]\n",
        "lista14.insert(4,\"sa\")\n",
        "print(lista14)"
      ],
      "metadata": {
        "id": "-tZL6CDpr4Jj"
      },
      "execution_count": null,
      "outputs": []
    },
    {
      "cell_type": "code",
      "source": [
        "#rimuovere un elemento di una lista\n",
        "lista15 = [1,2,3,4,5,6,7,8,9]\n",
        "lista15.remove(4)\n",
        "print(lista15)"
      ],
      "metadata": {
        "id": "pjutM-S8sntc"
      },
      "execution_count": null,
      "outputs": []
    },
    {
      "cell_type": "code",
      "source": [
        "#ribalta l'ordine della lista\n",
        "lista16 = [1,2,3,4,5,6,7,8,9]\n",
        "lista16.reverse()\n",
        "print(lista16)"
      ],
      "metadata": {
        "id": "UXFJaPRttK5O"
      },
      "execution_count": null,
      "outputs": []
    },
    {
      "cell_type": "code",
      "source": [
        "#ordinare la lista\n",
        "lista17 = [81,23,32,84,75,69,7,68,109]\n",
        "lista17.sort()\n",
        "print(lista17)"
      ],
      "metadata": {
        "colab": {
          "base_uri": "https://localhost:8080/"
        },
        "id": "3Uq61GD0t3ud",
        "outputId": "8f3e0771-abb7-4663-c453-7da85e7b91d8"
      },
      "execution_count": null,
      "outputs": [
        {
          "output_type": "stream",
          "name": "stdout",
          "text": [
            "[7, 23, 32, 68, 69, 75, 81, 84, 109]\n"
          ]
        }
      ]
    },
    {
      "cell_type": "code",
      "source": [
        "#rimuovere tutti gli elemnti uguali di una lista\n",
        "lista18 = [1,1,2,2,3,3,4,4,5,5,6,6,7,7,78,8,8,9,17,9,9,9]\n",
        "valueToBeRemoved = 9\n",
        "\n",
        "try:\n",
        "    while True:\n",
        "        lista18.remove(valueToBeRemoved)\n",
        "except ValueError:\n",
        "    pass\n",
        "    print(lista18)"
      ],
      "metadata": {
        "colab": {
          "base_uri": "https://localhost:8080/"
        },
        "id": "uo_7xS-Ww2CI",
        "outputId": "2642c71f-ba19-40a3-f8e1-32c61765d18e"
      },
      "execution_count": null,
      "outputs": [
        {
          "output_type": "stream",
          "name": "stdout",
          "text": [
            "[1, 1, 2, 2, 3, 3, 4, 4, 5, 5, 6, 6, 7, 7, 78, 8, 8]\n"
          ]
        }
      ]
    },
    {
      "cell_type": "code",
      "source": [
        "#rimuovere tutti gli elemnti uguali di una lista secondo modo\n",
        "while 4 in lista18:\n",
        "    lista18.remove(4)\n",
        "print(lista18)"
      ],
      "metadata": {
        "colab": {
          "base_uri": "https://localhost:8080/"
        },
        "id": "FXJRCRd3x9rd",
        "outputId": "63161450-b794-4a8b-81d4-82a067ab7da8"
      },
      "execution_count": null,
      "outputs": [
        {
          "output_type": "stream",
          "name": "stdout",
          "text": [
            "[1, 1, 2, 2, 3, 3, 5, 5, 6, 6, 7, 7, 78, 8, 8]\n"
          ]
        }
      ]
    },
    {
      "cell_type": "code",
      "source": [
        "#contare il umero di volte che compare il numero 9\n",
        "lista18 = [1,1,2,2,3,3,4,4,5,5,6,6,7,7,78,8,8,9,9,17,9,9]\n",
        "lista18.count(9)"
      ],
      "metadata": {
        "id": "QRJIJkd93UGt"
      },
      "execution_count": null,
      "outputs": []
    },
    {
      "cell_type": "code",
      "source": [
        "#cercare l'indice del numero 8\n",
        "lista18.index(8)"
      ],
      "metadata": {
        "colab": {
          "base_uri": "https://localhost:8080/"
        },
        "id": "k5VuqgIi3sXN",
        "outputId": "7b108689-0af1-4e69-b5dd-16a8173f1087"
      },
      "execution_count": null,
      "outputs": [
        {
          "output_type": "execute_result",
          "data": {
            "text/plain": [
              "13"
            ]
          },
          "metadata": {},
          "execution_count": 4
        }
      ]
    },
    {
      "cell_type": "code",
      "source": [
        "#inserire il valore zero prima numero 17, quindi trovare prima la posizione di 17\n",
        "lista18.insert(lista18.index(2),8)\n",
        "print(lista18)"
      ],
      "metadata": {
        "id": "yREqP0zW4LzX"
      },
      "execution_count": null,
      "outputs": []
    },
    {
      "cell_type": "code",
      "source": [
        "#prende l'ultimo elemento della lista\n",
        "lista18.pop()\n"
      ],
      "metadata": {
        "id": "HW_jnXaJ45E7"
      },
      "execution_count": null,
      "outputs": []
    },
    {
      "cell_type": "code",
      "source": [
        "#eliminare un elemento usando la posizione\n",
        "del lista18[0]\n",
        "print(lista18)"
      ],
      "metadata": {
        "colab": {
          "base_uri": "https://localhost:8080/"
        },
        "id": "kuxIwzrd5sgK",
        "outputId": "09b13c28-499e-4208-d9b4-abb6ac61314b"
      },
      "execution_count": null,
      "outputs": [
        {
          "output_type": "stream",
          "name": "stdout",
          "text": [
            "[1, 8, 2, 2, 3, 3, 5, 5, 6, 6, 7, 7, 78, 8]\n"
          ]
        }
      ]
    },
    {
      "cell_type": "code",
      "source": [
        "lista19 = [5,7,9,2]\n",
        "lista20 = lista19\n",
        "print(lista19)\n",
        "print(lista20)\n",
        "min(lista)\n",
        "max(lista)"
      ],
      "metadata": {
        "colab": {
          "base_uri": "https://localhost:8080/"
        },
        "id": "JXB_ioeD6NyD",
        "outputId": "246703b5-1fee-43c0-c40b-52a819551570"
      },
      "execution_count": null,
      "outputs": [
        {
          "output_type": "stream",
          "name": "stdout",
          "text": [
            "[5, 7, 9, 2]\n",
            "[5, 7, 9, 2]\n"
          ]
        }
      ]
    }
  ]
}