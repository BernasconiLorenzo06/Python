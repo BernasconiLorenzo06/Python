{
  "nbformat": 4,
  "nbformat_minor": 0,
  "metadata": {
    "colab": {
      "provenance": [],
      "authorship_tag": "ABX9TyNoYHVbl+9O7iMKNz1pC3Yo",
      "include_colab_link": true
    },
    "kernelspec": {
      "name": "python3",
      "display_name": "Python 3"
    },
    "language_info": {
      "name": "python"
    }
  },
  "cells": [
    {
      "cell_type": "markdown",
      "metadata": {
        "id": "view-in-github",
        "colab_type": "text"
      },
      "source": [
        "<a href=\"https://colab.research.google.com/github/BernasconiLorenzo06/Python/blob/main/esercitazione_verifica_liste.ipynb\" target=\"_parent\"><img src=\"https://colab.research.google.com/assets/colab-badge.svg\" alt=\"Open In Colab\"/></a>"
      ]
    },
    {
      "cell_type": "code",
      "source": [
        "#visualizzare numeri di una lista\n",
        "lista = [1,2,3,4,5,6,7,8,9,10]\n",
        "print(lista[5])"
      ],
      "metadata": {
        "id": "V0ne95B1diVs"
      },
      "execution_count": null,
      "outputs": []
    },
    {
      "cell_type": "code",
      "source": [
        "#visualizzare stringhe di una lista\n",
        "listaStringhe = [\"ciao\",[\"bello\",\"cestino\"],\"salve\"]\n",
        "print(listaStringhe[1])"
      ],
      "metadata": {
        "id": "dg94rcmZgw3V"
      },
      "execution_count": null,
      "outputs": []
    },
    {
      "cell_type": "code",
      "source": [
        "#visualizzare elementi della lista mista\n",
        "listaMista = [1,2,\"ciao\",[34.56,[\"casa\"],568.98],\"paolo\"]\n",
        "print(listaMista[3][1])"
      ],
      "metadata": {
        "id": "DfpARqFigxAL"
      },
      "execution_count": null,
      "outputs": []
    },
    {
      "cell_type": "code",
      "source": [
        "#prendere numeri tra due numeri che vuoi e \n",
        "lista1 = [1,2,3,4,5,6,7,8,9,10]\n",
        "print(lista1[1 : 7 ] )\n"
      ],
      "metadata": {
        "id": "xUUkHAp_gxIm"
      },
      "execution_count": null,
      "outputs": []
    },
    {
      "cell_type": "code",
      "source": [
        "#prendere numeri a due a due\n",
        "lista2 = [1,2,3,4,5,6,7,8,9,10]\n",
        "print(lista1[1 : 7 : 2] )"
      ],
      "metadata": {
        "id": "C8gsPmmChvWF"
      },
      "execution_count": null,
      "outputs": []
    },
    {
      "cell_type": "code",
      "source": [
        "#slising numeri negativi con anche numeri a due a due\n",
        "lista3 = [1,2,3,4,5,6,7,8,9,10]\n",
        "print(lista1[-9: -3 : 2])"
      ],
      "metadata": {
        "id": "1J8TZ1lGg5vn"
      },
      "execution_count": null,
      "outputs": []
    },
    {
      "cell_type": "code",
      "source": [
        "#guardare lunghezza lista\n",
        "lista4 = [1,2,3,4,5,6,7,8,9,10,11,12,13,14]\n",
        "len(lista4)"
      ],
      "metadata": {
        "id": "gHnLayUXjF3x"
      },
      "execution_count": null,
      "outputs": []
    },
    {
      "cell_type": "code",
      "source": [
        "#trovare numeri max\n",
        "lista5 = [99,21,32,24,55,6,67,82,39,17]\n",
        "massimo = max(lista5)\n",
        "print(massimo)"
      ],
      "metadata": {
        "id": "hcrdzRdrjWnn"
      },
      "execution_count": null,
      "outputs": []
    },
    {
      "cell_type": "code",
      "source": [
        "#trovare il minimo\n",
        "lista5 = [99,21,32,24,55,6,67,82,39,17]\n",
        "minimo = min(lista5)\n",
        "print(minimo)"
      ],
      "metadata": {
        "id": "mrhbOe6TkRgN"
      },
      "execution_count": null,
      "outputs": []
    },
    {
      "cell_type": "code",
      "source": [
        "#somma tra i numeri di una lista\n",
        "lista5 = [99,21,32,24,55,6,67,82,39,17]\n",
        "somma = sum(lista5)\n",
        "print(somma)"
      ],
      "metadata": {
        "id": "oivhO3LbkRy9"
      },
      "execution_count": null,
      "outputs": []
    },
    {
      "cell_type": "code",
      "source": [
        "#concatenazione tra 2 liste\n",
        "lista6 = [1,2,3]\n",
        "lista7 = [7,8,9]\n",
        "lista6 + lista7"
      ],
      "metadata": {
        "id": "CNt_VDmikw11"
      },
      "execution_count": null,
      "outputs": []
    },
    {
      "cell_type": "code",
      "source": [
        "#trovare un elemento e dire se c'è on nella lista\n",
        "lista8 = [1,2,\"ciao\",[34.56,[\"casa\"],568.98],\"paolo\"]\n",
        "\"paolo\" in lista8"
      ],
      "metadata": {
        "id": "2xEEz638mLyV"
      },
      "execution_count": null,
      "outputs": []
    },
    {
      "cell_type": "code",
      "source": [
        "#trovare un elemento e dire se c'è on nella lista\n",
        "lista8 = [1,2,\"ciao\",[34.56,[\"casa\"],568.98],\"paolo\"]\n",
        "\"h\" in lista8"
      ],
      "metadata": {
        "id": "le0_81Q1nElF"
      },
      "execution_count": null,
      "outputs": []
    },
    {
      "cell_type": "code",
      "source": [
        "#trovare il max e min (alfabeto) nella lista\n",
        "lista9 = [\"b\",\"c\",\"d\",\"h\",\"ciao\"]\n",
        "print(max(lista9))\n",
        "print(min(lista9))"
      ],
      "metadata": {
        "id": "-aGkLtBbnkkt"
      },
      "execution_count": null,
      "outputs": []
    },
    {
      "cell_type": "code",
      "source": [
        "#visualizzare una parola lettera per lettera\n",
        "lista10 = \"ciao a tutti ragazzi come state\"\n",
        "print(lista10)\n",
        "lista11 = list(lista10)\n",
        "print(lista11)"
      ],
      "metadata": {
        "id": "SBOymtipowqM"
      },
      "execution_count": null,
      "outputs": []
    },
    {
      "cell_type": "code",
      "source": [
        "#divide la stringa in più parole\n",
        "lista10 = \"ciao a tutti ragazzi come state\"\n",
        "print(lista10.split())"
      ],
      "metadata": {
        "id": "nx1Wxohopxrl"
      },
      "execution_count": null,
      "outputs": []
    },
    {
      "cell_type": "code",
      "source": [
        "#aggiungere un numero a una lista\n",
        "lista12 = [1,2,3,4,5,6]\n",
        "lista12.append(1)\n",
        "print(lista12)"
      ],
      "metadata": {
        "id": "k_YqOrVoqRBU"
      },
      "execution_count": null,
      "outputs": []
    },
    {
      "cell_type": "code",
      "source": [
        "#aggiungere più di un numero ad una lista\n",
        "lista13 = [1,2,3,4,5,6]\n",
        "lista13.extend([78,95,787])\n",
        "print(lista13)"
      ],
      "metadata": {
        "id": "dA4npAcOrDPd"
      },
      "execution_count": null,
      "outputs": []
    },
    {
      "cell_type": "code",
      "source": [
        "#inserire un elemento in una lista decidendo la posizione\n",
        "lista14 = [1,2,3,4,5,6]\n",
        "lista14.insert(4,\"sa\")\n",
        "print(lista14)"
      ],
      "metadata": {
        "id": "-tZL6CDpr4Jj"
      },
      "execution_count": null,
      "outputs": []
    },
    {
      "cell_type": "code",
      "source": [
        "#rimuovere un elemento di una lista\n",
        "lista15 = [1,2,3,4,5,6,7,8,9]\n",
        "lista15.remove(4)\n",
        "print(lista15)"
      ],
      "metadata": {
        "id": "pjutM-S8sntc"
      },
      "execution_count": null,
      "outputs": []
    },
    {
      "cell_type": "code",
      "source": [
        "#ribalta l'ordine della lista\n",
        "lista16 = [1,2,3,4,5,6,7,8,9]\n",
        "lista16.reverse()\n",
        "print(lista16)"
      ],
      "metadata": {
        "id": "UXFJaPRttK5O"
      },
      "execution_count": null,
      "outputs": []
    }
  ]
}