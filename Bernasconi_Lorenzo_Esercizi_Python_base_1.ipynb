{
  "nbformat": 4,
  "nbformat_minor": 0,
  "metadata": {
    "colab": {
      "provenance": [],
      "include_colab_link": true
    },
    "kernelspec": {
      "name": "python3",
      "display_name": "Python 3"
    },
    "language_info": {
      "name": "python"
    }
  },
  "cells": [
    {
      "cell_type": "markdown",
      "metadata": {
        "id": "view-in-github",
        "colab_type": "text"
      },
      "source": [
        "<a href=\"https://colab.research.google.com/github/BernasconiLorenzo06/Python/blob/main/Bernasconi_Lorenzo_Esercizi_Python_base_1.ipynb\" target=\"_parent\"><img src=\"https://colab.research.google.com/assets/colab-badge.svg\" alt=\"Open In Colab\"/></a>"
      ]
    },
    {
      "cell_type": "markdown",
      "source": [
        "Scrivere al di sotto di ogni esercizio il codice richiesto. Al termine, consegnare su classroom il notebook realizzato."
      ],
      "metadata": {
        "id": "u24Wx-pXrz4j"
      }
    },
    {
      "cell_type": "markdown",
      "source": [
        "0. assegnare alle variabili x, y e z i valori 10, 20 e 30 in un'unica istruzione. Assegnare alle variabili a, b e c il valore 100 sempre in un'unica istruzione"
      ],
      "metadata": {
        "id": "ym0EsAfkyxmz"
      }
    },
    {
      "cell_type": "code",
      "source": [
        "x,y,z = 10,20,30\n",
        "print(x,y,z)\n",
        "\n",
        "a,b,c = 100,100,100\n",
        "print(a,b,c)\n"
      ],
      "metadata": {
        "id": "K6G4zgcCzAAz",
        "colab": {
          "base_uri": "https://localhost:8080/"
        },
        "outputId": "37bf4fc5-cc6d-4518-bbcf-b74354e568aa"
      },
      "execution_count": null,
      "outputs": [
        {
          "output_type": "stream",
          "name": "stdout",
          "text": [
            "100 100 100\n"
          ]
        }
      ]
    },
    {
      "cell_type": "markdown",
      "source": [
        "1. far inserire all'utente due numeri interi, scambiarli e visualizzarli"
      ],
      "metadata": {
        "id": "_w3ESGmCr7SL"
      }
    },
    {
      "cell_type": "code",
      "source": [
        "numerintero1= int(input(\"inserisci numero intero\"))\n",
        "numerintero2= int(input(\"inserisci numero intero\"))\n",
        "print(numerintero1)\n",
        "print(numerintero2)\n",
        "\n"
      ],
      "metadata": {
        "id": "z5zHMYWlseti",
        "colab": {
          "base_uri": "https://localhost:8080/"
        },
        "outputId": "2127aab3-8cd7-41df-9d99-c47c22a32785"
      },
      "execution_count": null,
      "outputs": [
        {
          "output_type": "stream",
          "name": "stdout",
          "text": [
            "inserisci numero intero10\n",
            "inserisci numero intero20\n",
            "10\n",
            "20\n"
          ]
        }
      ]
    },
    {
      "cell_type": "markdown",
      "source": [
        "2. far inserire all'utente due numeri e calcolare lìelevamento a potenza del primo per il secondo. Provare poi a vedere qualk è l amasisma potenza del 2 che Python riece a calcolare: lo smartphone è altrettanto potente?"
      ],
      "metadata": {
        "id": "dkojX3qusGJi"
      }
    },
    {
      "cell_type": "code",
      "source": [
        "B = int(input(\"inserisci valore base numero\"))\n",
        "E = int(input(\"inserisci valore esponente numero\"))\n",
        "pow(B,E)\n",
        "\n"
      ],
      "metadata": {
        "id": "pYzftTyguOAc"
      },
      "execution_count": null,
      "outputs": []
    },
    {
      "cell_type": "markdown",
      "source": [
        "3. far inserire all'utente tre numeri e visualizzare il massimo dei tre"
      ],
      "metadata": {
        "id": "PYqK5w8yseCy"
      }
    },
    {
      "cell_type": "code",
      "source": [
        "numerintero1= int(input(\"inserisci numero intero\"))\n",
        "numerintero2= int(input(\"inserisci numero intero\"))\n",
        "numerintero3= int(input(\"inserisci numero intero\"))\n",
        "\n",
        "massimovalore = max(numerintero1,numerintero2,numerintero3)\n",
        "print(\"il valore massimo è:\",massimovalore)"
      ],
      "metadata": {
        "id": "pJSumYgPsmAb"
      },
      "execution_count": null,
      "outputs": []
    },
    {
      "cell_type": "markdown",
      "source": [
        "4. dati tre numeri, dire se con quei tre numeri possiamo costruire un triangolo"
      ],
      "metadata": {
        "id": "sJJHEnXXsmeL"
      }
    },
    {
      "cell_type": "code",
      "source": [
        "\n",
        "\n",
        "primoLato=int(input(\"Inserisci il primo lato di un triangolo: \"))\n",
        "\n",
        "secondoLato2=int(input(\"Inserisci il secondo lato di un triangolo: \"))\n",
        "\n",
        "terzoLato3=int(input(\"Inserisci il terzo lato di un triangolo: \"))\n",
        "\n",
        "\n",
        "if primoLato<(secondoLato2+terzoLato3) and secondoLato2<(primoLato+terzoLato3) and terzoLato3<(secondoLato2+primoLato):\n",
        "\n",
        "    print(\"puoi costrire un triangolo\")\n",
        "else:\n",
        "    print(\"non puoi costruire un triangolo\")\n",
        "\n"
      ],
      "metadata": {
        "id": "u6iI2qeosvlS",
        "colab": {
          "base_uri": "https://localhost:8080/"
        },
        "outputId": "bd240239-c919-4367-cb4f-6dc722f8a270"
      },
      "execution_count": null,
      "outputs": [
        {
          "name": "stdout",
          "output_type": "stream",
          "text": [
            "Inserisci il primo lato di un triangolo: 10\n",
            "Inserisci il secondo lato di un triangolo: 20\n",
            "Inserisci il terzo lato di un triangolo: 30\n"
          ]
        }
      ]
    },
    {
      "cell_type": "markdown",
      "source": [
        "5. far inserire dall'utente le misure di due cateti di un triangolo rettangolo (valori reali) e calcolare l'area del rettangolo e l'ipotenusa"
      ],
      "metadata": {
        "id": "zeDmm2t9sxER"
      }
    },
    {
      "cell_type": "code",
      "source": [
        "cateto_1 = float(input(\"Inserisci il valore del primo cateto:\"))\n",
        "cateto_2 = float(input(\"Inserisci il valore del secondo cateto:\"))\n",
        "\n",
        "from math import sqrt\n",
        "ipotenusa = sqrt( cateto_1**2 + cateto_2**2 )\n",
        "area = (cateto_1 * cateto_2) / 2\n",
        "print(\"Ipotenusa =\", ipotenusa)\n",
        "print(area)\n",
        "\n"
      ],
      "metadata": {
        "id": "MJ2jzq4PtSti",
        "colab": {
          "base_uri": "https://localhost:8080/"
        },
        "outputId": "dfe00a8f-14a8-4229-98f2-335d0cbd485e"
      },
      "execution_count": null,
      "outputs": [
        {
          "output_type": "stream",
          "name": "stdout",
          "text": [
            "Inserisci il valore del primo cateto:3\n",
            "Inserisci il valore del secondo cateto:4\n",
            "Ipotenusa = 5.0\n",
            "6.0\n"
          ]
        }
      ]
    },
    {
      "cell_type": "markdown",
      "source": [
        "6. far inserire un numero intero dall'utente e dire se è pari o dispari"
      ],
      "metadata": {
        "id": "64dgOKMRtTDq"
      }
    },
    {
      "cell_type": "code",
      "source": [
        "numintero=int(input(\"Inserisci un numero intero: \"))\n",
        "if numintero % 2 == 0:\n",
        "    print (\"questo numero è pari\")\n",
        "else:\n",
        "    print (\"questo numero è dispari\")\n"
      ],
      "metadata": {
        "id": "W7fI6Ej8t8Z6"
      },
      "execution_count": null,
      "outputs": []
    },
    {
      "cell_type": "markdown",
      "source": [
        "7. far inserire all'utente il valore di una temperatura in gradi centigradi e convertirlo in gradi fahrenheit"
      ],
      "metadata": {
        "id": "V16n7CsCuUXC"
      }
    },
    {
      "cell_type": "code",
      "source": [
        "tempGradiC = int(input ( \"Immettere la temperatura in gradi Celsius:\"))\n",
        "Far = (tempGradiC * 1.8) + 32\n",
        "print(Far)\n"
      ],
      "metadata": {
        "id": "DUlV468iuhE7",
        "colab": {
          "base_uri": "https://localhost:8080/"
        },
        "outputId": "dbbb92ed-1507-4ccb-c998-68ac0e42ff16"
      },
      "execution_count": null,
      "outputs": [
        {
          "output_type": "stream",
          "name": "stdout",
          "text": [
            "Immettere la temperatura in gradi Celsius:30\n",
            "86.0\n"
          ]
        }
      ]
    },
    {
      "cell_type": "markdown",
      "source": [],
      "metadata": {
        "id": "__Qd-DsZP-SM"
      }
    },
    {
      "cell_type": "markdown",
      "source": [
        "8. far inserire all'utente il valore di una temperatura in gradi farhreneight e convertirlo in gradi centigeradi"
      ],
      "metadata": {
        "id": "TRbh4pEwuher"
      }
    },
    {
      "cell_type": "code",
      "source": [
        "Far = int(input ( \"Immettere la temperatura in gradi farhrenheit:\"))\n",
        "tempGradiC = (Far - 32) / 1.8\n",
        "print(tempGradiC)"
      ],
      "metadata": {
        "id": "CNwCDAIFup-K",
        "colab": {
          "base_uri": "https://localhost:8080/"
        },
        "outputId": "0f4a715e-ac87-43ec-a4af-d863e52f02b3"
      },
      "execution_count": null,
      "outputs": [
        {
          "output_type": "stream",
          "name": "stdout",
          "text": [
            "Immettere la temperatura in gradi farhrenheit:86\n",
            "30.0\n"
          ]
        }
      ]
    },
    {
      "cell_type": "markdown",
      "source": [
        "9. far inserire all'utente una velocità in Km/h e visualizzare la stessa velocità in metri al secondo"
      ],
      "metadata": {
        "id": "YRjS88gtuqeC"
      }
    },
    {
      "cell_type": "code",
      "source": [
        "velocitaKilometriOrari = int(input ( \"Immettere velocita:\"))\n",
        "velocitaMetriSecondo = velocitaKilometriOrari / 3.6\n",
        "print(velocitaMetriSecondo)\n"
      ],
      "metadata": {
        "id": "Wricx3yyx3tb",
        "colab": {
          "base_uri": "https://localhost:8080/"
        },
        "outputId": "81ad3641-a2a3-44e8-98c7-6f8ae9acc46a"
      },
      "execution_count": null,
      "outputs": [
        {
          "output_type": "stream",
          "name": "stdout",
          "text": [
            "Immettere velocita:50\n",
            "13.88888888888889\n"
          ]
        }
      ]
    },
    {
      "cell_type": "markdown",
      "source": [
        "10. far inserire all'utente il raggio di un cerchio e visualizzarne il diametro e l'area"
      ],
      "metadata": {
        "id": "ltgIq2OGx4I7"
      }
    },
    {
      "cell_type": "code",
      "source": [
        "raggio = int(input ( \"Immettere raggio del cerchio:\"))\n",
        "area = (raggio * raggio) * 3,14\n",
        "diametro =  raggio * 2\n",
        "print(\"diametro =\" ,diametro)\n",
        "print(\"area =\" ,area)"
      ],
      "metadata": {
        "id": "BpbAnnUOzjGD",
        "colab": {
          "base_uri": "https://localhost:8080/"
        },
        "outputId": "07b0e1d7-53db-44d7-907d-d99f7c214593"
      },
      "execution_count": null,
      "outputs": [
        {
          "output_type": "stream",
          "name": "stdout",
          "text": [
            "Immettere raggio del cerchio:5\n",
            "diametro = 10\n",
            "area = (75, 14)\n"
          ]
        }
      ]
    },
    {
      "cell_type": "markdown",
      "source": [
        "11. far inserire all'utente il suo nome e poi il suo cognome e visualizzare il suo cognome e il suo nome separati da uno spazio"
      ],
      "metadata": {
        "id": "M18Obb-Gzjdq"
      }
    },
    {
      "cell_type": "code",
      "source": [
        "nome = (input ( \"Immettere  il tuo nome:\"))\n",
        "cognome = (input ( \"Immettere il tuo cognome:\"))\n",
        "print(nome, \"\" , cognome)\n"
      ],
      "metadata": {
        "id": "w2C_ln0LzwPa",
        "colab": {
          "base_uri": "https://localhost:8080/"
        },
        "outputId": "459d565a-ec36-4835-ab79-db581797b2c0"
      },
      "execution_count": null,
      "outputs": [
        {
          "output_type": "stream",
          "name": "stdout",
          "text": [
            "Immettere nome:d\n",
            "Immettere cognome:k\n",
            "d  k\n"
          ]
        }
      ]
    },
    {
      "cell_type": "markdown",
      "source": [
        "12. far inserire all'utente un numero e visualizzare il suo valore assoluto"
      ],
      "metadata": {
        "id": "BS9gBYBUzwp7"
      }
    },
    {
      "cell_type": "code",
      "source": [
        "import math\n",
        "ns = int(input ( \"Immettere un numero:\"))\n",
        "va = abs(ns)\n",
        "print(va)\n"
      ],
      "metadata": {
        "id": "KOZrphgUz89a",
        "colab": {
          "base_uri": "https://localhost:8080/"
        },
        "outputId": "7f024636-7921-4bb7-ab0e-3bee21a5f7b7"
      },
      "execution_count": null,
      "outputs": [
        {
          "output_type": "stream",
          "name": "stdout",
          "text": [
            "Immettere un numero:-12\n",
            "12\n"
          ]
        }
      ]
    },
    {
      "cell_type": "markdown",
      "source": [
        "13. far inserire all'utente un voto e controllare che sia compreso tra 1 e 10, estremi inclusi, Se è compreso visualizzare la stringa 'OK' altrimenti visualizzare la stringa 'KO'"
      ],
      "metadata": {
        "id": "j1tl_8INz9ZS"
      }
    },
    {
      "cell_type": "code",
      "source": [
        "valutazione= int(input ( \"Immettere un numero:\"))\n",
        "if valutazione >= 1 and valutazione <= 10:\n",
        "  print(\"OK\")\n",
        "else:\n",
        " print(\"KO\")\n",
        "\n"
      ],
      "metadata": {
        "id": "7Cgqx9K20ccr",
        "colab": {
          "base_uri": "https://localhost:8080/"
        },
        "outputId": "413a654f-3974-473c-a916-930a542eebd2"
      },
      "execution_count": null,
      "outputs": [
        {
          "output_type": "stream",
          "name": "stdout",
          "text": [
            "Immettere un numero:123321\n",
            "KO\n"
          ]
        }
      ]
    },
    {
      "cell_type": "markdown",
      "source": [
        "14. far inserire all'utente due numeri e dire se uno è multiplo dell'altro. Ad esempio se l'utente inserisse i valori 60 e 15 il programma dovrebbe visualizzare la stringa '60 è un multiplo di 15'. Stessa cosa se l'utente inserisse prima il 15 e poi il 60., Se non sono multipli, visualizzare un messaggio appropriato"
      ],
      "metadata": {
        "id": "3PIY9PvH0c06"
      }
    },
    {
      "cell_type": "code",
      "source": [
        "num1 = int(input ( \"Immettere un numero:\"))\n",
        "num2 = int(input ( \"Immettere un numero:\"))\n",
        "\n",
        "if num1 % num2 == 0:\n",
        "  print(num1, \"è multiplo di\" , num2)\n",
        "else:\n",
        "   print(num1, \" non è multiplo di\" , num2)\n",
        "\n",
        "\n"
      ],
      "metadata": {
        "id": "VS8xJJQZ1FfS",
        "colab": {
          "base_uri": "https://localhost:8080/"
        },
        "outputId": "18aaa119-14b7-4dba-e38a-b4a31fe44ad0"
      },
      "execution_count": null,
      "outputs": [
        {
          "output_type": "stream",
          "name": "stdout",
          "text": [
            "Immettere un numero:10\n",
            "Immettere un numero:3\n",
            "10  non è multiplo di 3\n"
          ]
        }
      ]
    },
    {
      "cell_type": "markdown",
      "source": [
        "15. far inserire all'utente la durata di un periodi di tempo in ore, minuti e secodni e convertirlo in secondi"
      ],
      "metadata": {
        "id": "444w9p761F7j"
      }
    },
    {
      "cell_type": "code",
      "source": [
        "oreTempo = int(input ( \"Immettere ore:\"))\n",
        "minutiTempo = int(input ( \"Immettere minuti:\"))\n",
        "secondiTempo = int(input ( \"Immettere secondi:\"))\n",
        "oreTempo = oreTempo * 3600\n",
        "minutiTempo = minutiTempo * 60\n",
        "secondi = (oreTempo + minutiTempo + secondiTempo) / 3600\n",
        "print(secondi)\n"
      ],
      "metadata": {
        "id": "S0xfdzxW1ijl",
        "colab": {
          "base_uri": "https://localhost:8080/"
        },
        "outputId": "94915cf2-edc2-4b13-8628-43ee3471b322"
      },
      "execution_count": null,
      "outputs": [
        {
          "output_type": "stream",
          "name": "stdout",
          "text": [
            "Immettere ore:1\n",
            "Immettere minuti:20\n",
            "Immettere secondi:30\n",
            "1.3416666666666666\n"
          ]
        }
      ]
    },
    {
      "cell_type": "markdown",
      "source": [
        "16. far inserire all'utente la durata di un periodo in secondi e convertirlo in ore, minuti e secondi"
      ],
      "metadata": {
        "id": "3KaGzt4U1jA7"
      }
    },
    {
      "cell_type": "code",
      "source": [],
      "metadata": {
        "id": "wAwF6xB-10YD"
      },
      "execution_count": null,
      "outputs": []
    }
  ]
}